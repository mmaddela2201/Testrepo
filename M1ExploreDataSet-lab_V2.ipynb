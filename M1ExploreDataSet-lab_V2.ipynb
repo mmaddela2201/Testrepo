{
  "metadata": {
    "kernelspec": {
      "name": "python",
      "display_name": "Python (Pyodide)",
      "language": "python"
    },
    "language_info": {
      "codemirror_mode": {
        "name": "python",
        "version": 3
      },
      "file_extension": ".py",
      "mimetype": "text/x-python",
      "name": "python",
      "nbconvert_exporter": "python",
      "pygments_lexer": "ipython3",
      "version": "3.8"
    },
    "prev_pub_hash": "75f9cbe799d7bcd81dfecdbcf1653c6ad01ca54b63272be450af5e5346a76987"
  },
  "nbformat_minor": 4,
  "nbformat": 4,
  "cells": [
    {
      "cell_type": "markdown",
      "source": "<p style=\"text-align:center\">\n    <a href=\"https://skills.network\" target=\"_blank\">\n    <img src=\"https://cf-courses-data.s3.us.cloud-object-storage.appdomain.cloud/assets/logos/SN_web_lightmode.png\" width=\"200\" alt=\"Skills Network Logo\"  />\n    </a>\n</p>\n",
      "metadata": {}
    },
    {
      "cell_type": "markdown",
      "source": "# **Lab: Exploring the Dataset**\n",
      "metadata": {}
    },
    {
      "cell_type": "markdown",
      "source": "Estimated time needed: **30** minutes\n",
      "metadata": {}
    },
    {
      "cell_type": "markdown",
      "source": "## Introduction\n",
      "metadata": {}
    },
    {
      "cell_type": "markdown",
      "source": "Data exploration is the initial phase of data analysis where we aim to understand the data's characteristics, identify patterns, and uncover potential insights. It is a crucial step that helps us make informed decisions about subsequent analysis.\n",
      "metadata": {}
    },
    {
      "cell_type": "markdown",
      "source": "## Objectives\n",
      "metadata": {}
    },
    {
      "cell_type": "markdown",
      "source": "After completing this lab, you will be able to:\n",
      "metadata": {}
    },
    {
      "cell_type": "markdown",
      "source": "-   Summarize the key characteristics of a dataset.\n-   Identify different data types commonly used in data analysis.\n",
      "metadata": {}
    },
    {
      "cell_type": "markdown",
      "source": "### Install the required library\n",
      "metadata": {}
    },
    {
      "cell_type": "code",
      "source": "import micropip\n\nawait micropip.install('pandas')\n\n# Import pandas after installation\nimport pandas as pd\nprint(pd.__version__)\n",
      "metadata": {
        "trusted": true
      },
      "outputs": [
        {
          "name": "stdout",
          "text": "2.2.0\n",
          "output_type": "stream"
        }
      ],
      "execution_count": 13
    },
    {
      "cell_type": "markdown",
      "source": "## Load the dataset\n",
      "metadata": {}
    },
    {
      "cell_type": "markdown",
      "source": "<h3>Read Data</h3>\n<p>\nWe utilize the <code>pandas.read_csv()</code> function for reading CSV files. However, in this version of the lab, which operates on JupyterLite, the dataset needs to be downloaded to the interface using the provided code below.\n</p>\n",
      "metadata": {}
    },
    {
      "cell_type": "markdown",
      "source": "The functions below will download the dataset into your browser:\n",
      "metadata": {}
    },
    {
      "cell_type": "code",
      "source": "from pyodide.http import pyfetch\n\nasync def download(url, filename):\n    response = await pyfetch(url)\n    if response.status == 200:\n        with open(filename, \"wb\") as f:\n            f.write(await response.bytes())",
      "metadata": {
        "trusted": true
      },
      "outputs": [],
      "execution_count": 14
    },
    {
      "cell_type": "code",
      "source": "file_path = \"https://cf-courses-data.s3.us.cloud-object-storage.appdomain.cloud/n01PQ9pSmiRX6520flujwQ/survey-data.csv\"",
      "metadata": {
        "trusted": true
      },
      "outputs": [],
      "execution_count": 15
    },
    {
      "cell_type": "markdown",
      "source": "To obtain the dataset, utilize the download() function as defined above:  \n",
      "metadata": {}
    },
    {
      "cell_type": "code",
      "source": "await download(file_path, \"survey_data.csv\")\nfile_name=\"survey_data.csv\"",
      "metadata": {
        "trusted": true
      },
      "outputs": [],
      "execution_count": 16
    },
    {
      "cell_type": "markdown",
      "source": "Utilize the Pandas method read_csv() to load the data into a dataframe.\n",
      "metadata": {}
    },
    {
      "cell_type": "code",
      "source": "df = pd.read_csv(file_name)",
      "metadata": {
        "trusted": true
      },
      "outputs": [],
      "execution_count": 17
    },
    {
      "cell_type": "markdown",
      "source": "> Note: This version of the lab is working on JupyterLite, which requires the dataset to be downloaded to the interface.While working on the downloaded version of this notebook on their local machines(Jupyter Anaconda), the learners can simply **skip the steps above,** and simply use the URL directly in the `pandas.read_csv()` function. You can uncomment and run the statements in the cell below.\n",
      "metadata": {}
    },
    {
      "cell_type": "markdown",
      "source": "# Hands on Lab\n",
      "metadata": {}
    },
    {
      "cell_type": "markdown",
      "source": "## Explore the dataset\n",
      "metadata": {}
    },
    {
      "cell_type": "markdown",
      "source": "It is a good idea to print the top 5 rows of the dataset to get a feel of how the dataset will look.\n",
      "metadata": {}
    },
    {
      "cell_type": "markdown",
      "source": "Display the top 5 rows and columns from your dataset.\n",
      "metadata": {}
    },
    {
      "cell_type": "code",
      "source": "import pandas as pd\nfrom pyodide.http import pyfetch\n\n# Function to download the CSV file\nasync def download(url, filename):\n    response = await pyfetch(url)\n    if response.status == 200:\n        with open(filename, \"wb\") as f:\n            f.write(await response.bytes())\n\n# Define file URL and name\nfile_path = \"https://cf-courses-data.s3.us.cloud-object-storage.appdomain.cloud/n01PQ9pSmiRX6520flujwQ/survey-data.csv\"\nfile_name = \"survey_data.csv\"\n\n# Download and read the CSV file\nawait download(file_path, file_name)\ndf = pd.read_csv(file_name)\n\n# Display the top 5 rows\nprint(df.head())\n",
      "metadata": {
        "trusted": true
      },
      "outputs": [
        {
          "name": "stdout",
          "text": "   ResponseId                      MainBranch                 Age  \\\n0           1  I am a developer by profession  Under 18 years old   \n1           2  I am a developer by profession     35-44 years old   \n2           3  I am a developer by profession     45-54 years old   \n3           4           I am learning to code     18-24 years old   \n4           5  I am a developer by profession     18-24 years old   \n\n            Employment RemoteWork   Check  \\\n0  Employed, full-time     Remote  Apples   \n1  Employed, full-time     Remote  Apples   \n2  Employed, full-time     Remote  Apples   \n3   Student, full-time        NaN  Apples   \n4   Student, full-time        NaN  Apples   \n\n                                    CodingActivities  \\\n0                                              Hobby   \n1  Hobby;Contribute to open-source projects;Other...   \n2  Hobby;Contribute to open-source projects;Other...   \n3                                                NaN   \n4                                                NaN   \n\n                                             EdLevel  \\\n0                          Primary/elementary school   \n1       Bachelor’s degree (B.A., B.S., B.Eng., etc.)   \n2    Master’s degree (M.A., M.S., M.Eng., MBA, etc.)   \n3  Some college/university study without earning ...   \n4  Secondary school (e.g. American high school, G...   \n\n                                           LearnCode  \\\n0                             Books / Physical media   \n1  Books / Physical media;Colleague;On the job tr...   \n2  Books / Physical media;Colleague;On the job tr...   \n3  Other online resources (e.g., videos, blogs, f...   \n4  Other online resources (e.g., videos, blogs, f...   \n\n                                     LearnCodeOnline  ... JobSatPoints_6  \\\n0                                                NaN  ...            NaN   \n1  Technical documentation;Blogs;Books;Written Tu...  ...            0.0   \n2  Technical documentation;Blogs;Books;Written Tu...  ...            NaN   \n3  Stack Overflow;How-to videos;Interactive tutorial  ...            NaN   \n4  Technical documentation;Blogs;Written Tutorial...  ...            NaN   \n\n  JobSatPoints_7 JobSatPoints_8 JobSatPoints_9 JobSatPoints_10  \\\n0            NaN            NaN            NaN             NaN   \n1            0.0            0.0            0.0             0.0   \n2            NaN            NaN            NaN             NaN   \n3            NaN            NaN            NaN             NaN   \n4            NaN            NaN            NaN             NaN   \n\n  JobSatPoints_11           SurveyLength SurveyEase ConvertedCompYearly JobSat  \n0             NaN                    NaN        NaN                 NaN    NaN  \n1             0.0                    NaN        NaN                 NaN    NaN  \n2             NaN  Appropriate in length       Easy                 NaN    NaN  \n3             NaN               Too long       Easy                 NaN    NaN  \n4             NaN              Too short       Easy                 NaN    NaN  \n\n[5 rows x 114 columns]\n",
          "output_type": "stream"
        }
      ],
      "execution_count": 19
    },
    {
      "cell_type": "markdown",
      "source": "## Find out the number of rows and columns\n",
      "metadata": {}
    },
    {
      "cell_type": "markdown",
      "source": "Start by exploring the numbers of rows and columns of data in the dataset.\n",
      "metadata": {}
    },
    {
      "cell_type": "markdown",
      "source": "Print the number of rows in the dataset.\n",
      "metadata": {}
    },
    {
      "cell_type": "code",
      "source": "print(\"Number of rows:\", df.shape[1])",
      "metadata": {
        "trusted": true
      },
      "outputs": [
        {
          "name": "stdout",
          "text": "Number of rows: 114\n",
          "output_type": "stream"
        }
      ],
      "execution_count": 26
    },
    {
      "cell_type": "markdown",
      "source": "Print the number of columns in the dataset.\n",
      "metadata": {}
    },
    {
      "cell_type": "code",
      "source": "print(\"Number of columns:\", df.shape[1])\n",
      "metadata": {
        "trusted": true
      },
      "outputs": [
        {
          "name": "stdout",
          "text": "Number of columns: 114\n",
          "output_type": "stream"
        }
      ],
      "execution_count": 23
    },
    {
      "cell_type": "markdown",
      "source": "## Identify the data types of each column\n",
      "metadata": {}
    },
    {
      "cell_type": "markdown",
      "source": "Explore the dataset and identify the data types of each column.\n",
      "metadata": {}
    },
    {
      "cell_type": "markdown",
      "source": "Print the datatype of all columns.\n",
      "metadata": {}
    },
    {
      "cell_type": "code",
      "source": "print(df.dtypes)\n",
      "metadata": {
        "trusted": true
      },
      "outputs": [
        {
          "name": "stdout",
          "text": "ResponseId               int64\nMainBranch              object\nAge                     object\nEmployment              object\nRemoteWork              object\n                        ...   \nJobSatPoints_11        float64\nSurveyLength            object\nSurveyEase              object\nConvertedCompYearly    float64\nJobSat                 float64\nLength: 114, dtype: object\n",
          "output_type": "stream"
        }
      ],
      "execution_count": 24
    },
    {
      "cell_type": "markdown",
      "source": "Print the mean age of the survey participants.\n",
      "metadata": {}
    },
    {
      "cell_type": "code",
      "source": "df['Age'] = pd.to_numeric(df['Age'], errors='coerce')  # Convert to numeric, invalid parsing will be NaN\nmean_age = df['Age'].mean()\nprint(\"Mean age of survey participants:\", mean_age)\n",
      "metadata": {
        "trusted": true
      },
      "outputs": [
        {
          "name": "stdout",
          "text": "Mean age of survey participants: nan\n",
          "output_type": "stream"
        }
      ],
      "execution_count": 28
    },
    {
      "cell_type": "markdown",
      "source": "The dataset is the result of a world wide survey. Print how many unique countries are there in the Country column.\n",
      "metadata": {}
    },
    {
      "cell_type": "code",
      "source": "unique_countries = df['Country'].nunique()\nprint(\"Number of unique countries in the survey:\", unique_countries)\n",
      "metadata": {
        "trusted": true
      },
      "outputs": [
        {
          "name": "stdout",
          "text": "Number of unique countries in the survey: 185\n",
          "output_type": "stream"
        }
      ],
      "execution_count": 29
    },
    {
      "cell_type": "markdown",
      "source": "Copyright ©  IBM Corporation. All rights reserved.\n",
      "metadata": {}
    }
  ]
}